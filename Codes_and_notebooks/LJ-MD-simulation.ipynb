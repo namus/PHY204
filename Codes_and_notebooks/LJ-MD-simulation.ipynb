{
 "cells": [
  {
   "cell_type": "markdown",
   "metadata": {},
   "source": [
    "## Molecular Dynamics (MD) simulation of LJ particles in NVE ensemble"
   ]
  },
  {
   "cell_type": "code",
   "execution_count": 50,
   "metadata": {},
   "outputs": [],
   "source": [
    "import matplotlib.pyplot as plt\n",
    "import numpy as np\n",
    "from numba import jit"
   ]
  },
  {
   "cell_type": "markdown",
   "metadata": {},
   "source": [
    "Following function will evaluate the forces on each particle. Only special thing to consider is usage of minimum image convention for distance calculation."
   ]
  },
  {
   "cell_type": "code",
   "execution_count": 51,
   "metadata": {},
   "outputs": [],
   "source": [
    "@jit(nopython=True)\n",
    "def get_force(pos,boxl):\n",
    "    sigma = 1.0\n",
    "    eps   = 1.0\n",
    "    r_cut = 4.0\n",
    "    E_cut = 4*eps*((sigma/r_cut)**12 - (sigma/r_cut)**6)\n",
    "    potnrg = 0.0\n",
    "    f = np.zeros_like(pos)\n",
    "    npart = len(pos)\n",
    "\n",
    "    for i in range(len(pos)-1):\n",
    "        for j in range(i+1, len(pos)):\n",
    "            dpos = (pos[i]-pos[j])\n",
    "            for comp in range(len(dpos)):\n",
    "                if np.abs(dpos[comp]) > boxl/2.0:\n",
    "                    dpos[comp] -= np.sign(dpos[comp])*boxl\n",
    "            r = np.linalg.norm(dpos)\n",
    "            if r <= r_cut:\n",
    "                r2i = 1/(r*r)\n",
    "                r6i = r2i**3\n",
    "                fij = r2i*r6i*(r6i - 0.5)*dpos\n",
    "                f[i] += fij\n",
    "                f[j] -= fij\n",
    "                potnrg += r6i*(r6i - 1) - E_cut\n",
    "    f *= 48\n",
    "    potnrg *= (4/npart)\n",
    "    return f, potnrg"
   ]
  },
  {
   "cell_type": "markdown",
   "metadata": {},
   "source": [
    "Following cell contains the function for executing MD simulation in NVE ensemble. We're using Velocity Verlet algorithm to integrate the equation of motion. See Eq.4.3.3 and 4.3.4 in the book. Here are they:\n",
    "\n",
    "For position:\n",
    "$r(t + \\delta t) = r(t) + v(t)\\delta t + \\frac{f(t)}{2m}\\delta t^2$\n",
    "\n",
    "For velocity:\n",
    "$v(t + \\delta t) = v(t) + \\frac{f(t + \\delta t) + f(t)}{2m}\\delta t$"
   ]
  },
  {
   "cell_type": "code",
   "execution_count": 62,
   "metadata": {},
   "outputs": [],
   "source": [
    "@jit(nopython=True)\n",
    "def MD_NVE(pos, vel, boxl, kT=1.0, steps=0, equib=0, sampl_freq=1):\n",
    "    print(\"Running MD for\", steps, \"steps ...\")\n",
    "    npart = len(pos) # pos.shape[0]\n",
    "    ndim = len(pos[0]) # pos.shape[1]\n",
    "\n",
    "    dt = 0.005 # Adjustable parameter\n",
    "    \n",
    "    #nsample = int((steps - equib)/sampl_freq)\n",
    "    nsample = steps\n",
    "    \n",
    "    traj_potnrg = np.zeros(nsample)\n",
    "    traj_kinnrg = np.zeros(nsample)\n",
    "    kT = np.zeros(nsample)\n",
    "    \n",
    "    traj_pos = np.zeros((nsample,npart,ndim))\n",
    "    traj_vel = np.zeros_like(traj_pos)\n",
    "    traj_force = np.zeros_like(traj_pos)\n",
    "    \n",
    "    traj_pos[0] = pos\n",
    "    traj_vel[0] = vel\n",
    "    traj_force[0], traj_potnrg[0] = get_force(pos,boxl)\n",
    "    kT[0] = (traj_vel[0]**2).sum()/(3*npart)\n",
    "    traj_kinnrg[0] = (traj_vel[0]**2).sum()/2\n",
    "    \n",
    "    for step in range(1,steps):\n",
    "        # Velocity Verlet algorithm to integrate EOM\n",
    "        traj_pos[step] = traj_pos[step-1] + traj_vel[step-1]*dt + (traj_force[step-1] * (dt**2))/2.0\n",
    "        traj_pos[step] = np.mod(traj_pos[step],boxl) # Wrap particles due to PBC\n",
    "        traj_force[step], traj_potnrg[step] = get_force(traj_pos[step],boxl)\n",
    "        traj_vel[step] = traj_vel[step-1] + ((traj_force[step-1]+traj_force[step])*dt)/2\n",
    "        \n",
    "        if step < equib:\n",
    "            # We rescale the velocity here to reach the target temperature\n",
    "            vel_com = traj_vel[step].sum(axis=0)/npart # Velocity of centre of mass (to be removed)\n",
    "            vel_sq = (traj_vel[step]**2).sum()/npart # Mean square velocity\n",
    "            sf = np.sqrt(3*kT/vel_sq) # Scaling factor to fix target temperature\n",
    "\n",
    "            traj_vel[step] -= vel_com\n",
    "            traj_vel[step] *= sf\n",
    "\n",
    "        kT[step] = (traj_vel[step]**2).sum()/(3*npart)\n",
    "        traj_kinnrg[step] = (traj_vel[step]**2).sum()/(2*npart)\n",
    "        \n",
    "        if step%100 == 0:\n",
    "            print(\"MD step = \", step)\n",
    "        '''\n",
    "        if ((step >= equib) and (step % sampl_freq == 0)):\n",
    "            print(\"MC step:\", step)\n",
    "            traj_nrg[isampl] = potnrg\n",
    "            traj_pos[isampl] = pos\n",
    "            isampl += 1\n",
    "        '''\n",
    "    \n",
    "    return traj_pos, traj_vel, traj_force,  traj_potnrg, traj_kinnrg, kT"
   ]
  },
  {
   "cell_type": "code",
   "execution_count": 63,
   "metadata": {},
   "outputs": [],
   "source": [
    "@jit(nopython=True)\n",
    "def steep(pos, boxl, steps=10, tol=1.0):\n",
    "    for step in range(1,steps+1):\n",
    "        f, potnrg = get_force(pos,boxl)\n",
    "        maxf = f.max()\n",
    "        if maxf > 10:\n",
    "            alpha = 0.1/maxf\n",
    "        else:\n",
    "            alpha = 0.001\n",
    "\n",
    "        pos += alpha*f\n",
    "        pos = np.mod(pos,boxl) # Wrap particles due to PBC\n",
    "        \n",
    "        if step%10 == 0:\n",
    "            print(\"SD step:\", step, \"Pot. Energy:\", potnrg, \"Max. force:\", maxf)\n",
    "\n",
    "        if maxf < tol: # Convergence is checked by max force value, not energy\n",
    "            print(\"Steepest descent converged!\")\n",
    "            break\n",
    "    return pos    "
   ]
  },
  {
   "cell_type": "markdown",
   "metadata": {},
   "source": [
    "Let's prepare the system now!"
   ]
  },
  {
   "cell_type": "code",
   "execution_count": 65,
   "metadata": {},
   "outputs": [
    {
     "name": "stdout",
     "output_type": "stream",
     "text": [
      "Running steepest descent energy minimisation ...\n",
      "SD step: 10 Pot. Energy: 118.96193908047246 Max. force: 11533.962137676815\n",
      "SD step: 20 Pot. Energy: 8.18899357796879 Max. force: 929.1732413480605\n",
      "SD step: 30 Pot. Energy: -2.235492322949077 Max. force: 193.4600200594362\n",
      "SD step: 40 Pot. Energy: -4.127291040136473 Max. force: 341.47925794403045\n",
      "SD step: 50 Pot. Energy: -5.068526457806445 Max. force: 254.34572604105426\n",
      "SD step: 60 Pot. Energy: -5.653771596439534 Max. force: 76.40145212554563\n",
      "SD step: 70 Pot. Energy: -5.977585983185003 Max. force: 40.26233853079418\n",
      "SD step: 80 Pot. Energy: -6.09521986250158 Max. force: 125.81755172586034\n",
      "SD step: 90 Pot. Energy: -6.439788186991703 Max. force: 44.83370779142258\n",
      "SD step: 100 Pot. Energy: -6.497986690828018 Max. force: 46.40796040546819\n",
      "Finished steepest descent energy minimisation!\n",
      "Initial temperature: 1.9917938739466827\n",
      "Density: 1.024\n"
     ]
    }
   ],
   "source": [
    "#Initialise the size of simulation box, dimensions, number of particles and temperature\n",
    "boxl = 5 # Unit of sigma\n",
    "ndim = 3\n",
    "npart = 128 # Number of particles\n",
    "rho = npart/(boxl**ndim)\n",
    "kT = 2.0\n",
    "\n",
    "# Initialise with random coordinates followed by steepest descent ...\n",
    "pos = np.random.random((npart,ndim))*boxl \n",
    "\n",
    "print(\"Running steepest descent energy minimisation ...\")\n",
    "pos = steep(pos, boxl, steps=100, tol=10)\n",
    "print(\"Finished steepest descent energy minimisation!\")\n",
    "\n",
    "# We could have also read the coordinates from a file (pre-equilibrated) \n",
    "#fo = open(\"LJ-3D-minimised.dat\")\n",
    "#pos = np.loadtxt(fo)\n",
    "#fo.close()\n",
    "\n",
    "# Initialise with random velocities ...\n",
    "vel = np.random.uniform(-1,1,(npart,ndim))\n",
    "vel_com = vel.sum(axis=0)/npart # Velocity of centre of mass (to be removed)\n",
    "vel_sq = (vel*vel).sum()/npart # Mean square velocity\n",
    "sf = np.sqrt(3*kT/vel_sq) # Scaling factor to fix target temperature\n",
    "\n",
    "vel -= vel_com\n",
    "vel *= sf\n",
    "\n",
    "kT = (vel**2).sum()/(3*npart)\n",
    "print(\"Initial temperature:\", kT)\n",
    "print(\"Density:\", rho)"
   ]
  },
  {
   "cell_type": "markdown",
   "metadata": {},
   "source": [
    "Now let's run the actual simulation!!! :)"
   ]
  },
  {
   "cell_type": "code",
   "execution_count": 67,
   "metadata": {},
   "outputs": [
    {
     "name": "stdout",
     "output_type": "stream",
     "text": [
      "Running MD for 5000 steps ...\n",
      "MD step =  100\n",
      "MD step =  200\n",
      "MD step =  300\n",
      "MD step =  400\n",
      "MD step =  500\n",
      "MD step =  600\n",
      "MD step =  700\n",
      "MD step =  800\n",
      "MD step =  900\n",
      "MD step =  1000\n",
      "MD step =  1100\n",
      "MD step =  1200\n",
      "MD step =  1300\n",
      "MD step =  1400\n",
      "MD step =  1500\n",
      "MD step =  1600\n",
      "MD step =  1700\n",
      "MD step =  1800\n",
      "MD step =  1900\n",
      "MD step =  2000\n",
      "MD step =  2100\n",
      "MD step =  2200\n",
      "MD step =  2300\n",
      "MD step =  2400\n",
      "MD step =  2500\n",
      "MD step =  2600\n",
      "MD step =  2700\n",
      "MD step =  2800\n",
      "MD step =  2900\n",
      "MD step =  3000\n",
      "MD step =  3100\n",
      "MD step =  3200\n",
      "MD step =  3300\n",
      "MD step =  3400\n",
      "MD step =  3500\n",
      "MD step =  3600\n",
      "MD step =  3700\n",
      "MD step =  3800\n",
      "MD step =  3900\n",
      "MD step =  4000\n",
      "MD step =  4100\n",
      "MD step =  4200\n",
      "MD step =  4300\n",
      "MD step =  4400\n",
      "MD step =  4500\n",
      "MD step =  4600\n",
      "MD step =  4700\n",
      "MD step =  4800\n",
      "MD step =  4900\n"
     ]
    }
   ],
   "source": [
    "np.seterr(all='raise')\n",
    "# output is a tuple: traj_pos, traj_vel, traj_force,  traj_potnrg, traj_kinnrg, kT\n",
    "output = MD_NVE(pos, vel, boxl, kT, steps=5000, equib=1000, sampl_freq=1)"
   ]
  },
  {
   "cell_type": "code",
   "execution_count": 68,
   "metadata": {},
   "outputs": [
    {
     "name": "stdout",
     "output_type": "stream",
     "text": [
      "Density =  1.024\n"
     ]
    }
   ],
   "source": [
    "# Splitting the output tuple in individual variables ...\n",
    "traj_pos, traj_vel, traj_force,  traj_potnrg, traj_kinnrg, kT = output\n",
    "traj_totnrg = traj_potnrg + traj_kinnrg\n",
    "print(\"Density = \", rho)"
   ]
  },
  {
   "cell_type": "markdown",
   "metadata": {},
   "source": [
    "## Plotting the Total/Potential/Kinetic energies ... \n",
    "\n",
    "Notice the initial equilibration phase with velocity rescaling ..."
   ]
  },
  {
   "cell_type": "code",
   "execution_count": 69,
   "metadata": {
    "scrolled": true
   },
   "outputs": [
    {
     "data": {
      "text/plain": [
       "<matplotlib.legend.Legend at 0x11bb203d0>"
      ]
     },
     "execution_count": 69,
     "metadata": {},
     "output_type": "execute_result"
    },
    {
     "data": {
      "image/png": "[encoded data removed]",
      "text/plain": [
       "<Figure size 432x288 with 1 Axes>"
      ]
     },
     "metadata": {
      "needs_background": "light"
     },
     "output_type": "display_data"
    }
   ],
   "source": [
    "skip = 1\n",
    "plt.plot(traj_totnrg[skip:], label='Total')\n",
    "plt.plot(traj_potnrg[skip:], label='Potential')\n",
    "plt.plot(traj_kinnrg[skip:], label='Kinetic')\n",
    "plt.legend()"
   ]
  },
  {
   "cell_type": "markdown",
   "metadata": {},
   "source": [
    "Let's plot the temperature fluctuations now ..."
   ]
  },
  {
   "cell_type": "code",
   "execution_count": 73,
   "metadata": {},
   "outputs": [
    {
     "name": "stdout",
     "output_type": "stream",
     "text": [
      "Average kT =  2.0360011749432783\n"
     ]
    },
    {
     "data": {
      "text/plain": [
       "<matplotlib.legend.Legend at 0x11f1e4a10>"
      ]
     },
     "execution_count": 73,
     "metadata": {},
     "output_type": "execute_result"
    },
    {
     "data": {
      "image/png": "[encoded data removed]",
      "text/plain": [
       "<Figure size 432x288 with 1 Axes>"
      ]
     },
     "metadata": {
      "needs_background": "light"
     },
     "output_type": "display_data"
    }
   ],
   "source": [
    "# Compute the average kT AFTER equilibration phase ...\n",
    "print(\"Average kT = \", kT[1000:].mean())\n",
    "\n",
    "skip = 2\n",
    "plt.plot(kT[skip:], label='kT')\n",
    "plt.legend()"
   ]
  },
  {
   "cell_type": "markdown",
   "metadata": {},
   "source": [
    "## Radial Distribution Function (RDF)"
   ]
  },
  {
   "cell_type": "code",
   "execution_count": 74,
   "metadata": {},
   "outputs": [],
   "source": [
    "@jit(nopython=True)\n",
    "def RDF(pos,boxl,bw=0.01):\n",
    "    steps = pos.shape[0]\n",
    "    npart = pos.shape[1]\n",
    "    ndim = pos.shape[2]\n",
    "\n",
    "    rho = npart/(boxl**ndim)\n",
    "    \n",
    "    nbins = int(boxl/(2*bw))\n",
    "    rdf = np.zeros(nbins)\n",
    "    rbins = np.linspace(0,boxl/2,nbins) # Create grid/bins for r\n",
    "    \n",
    "    for step in range(steps):\n",
    "        for i in range(npart):\n",
    "            for j in range(npart):\n",
    "                if i != j:\n",
    "                    dpos = (pos[step][i]-pos[step][j])\n",
    "                    # Perform transformation for minimum image convention (MIC)\n",
    "                    for comp in range(len(dpos)):\n",
    "                        if np.abs(dpos[comp]) > boxl/2.0:\n",
    "                            dpos[comp] -= np.sign(dpos[comp])*boxl\n",
    "                    r = np.linalg.norm(dpos)\n",
    "                    if r <= boxl/2:\n",
    "                        ibin = int(r / bw)\n",
    "                        rdf[ibin] += 1\n",
    "    if ndim == 3:\n",
    "        rdf[1:] /= (4 * np.pi * rbins[1:]**2 * bw * rho * steps * npart) # for 3D RDF\n",
    "    elif ndim == 2:\n",
    "        rdf[1:] /= (2 * np.pi * rbins[1:] * bw * rho * steps * npart) # for 2D RDF\n",
    "    else:\n",
    "        print(\"Dimensionality not supported!\")\n",
    "        return None\n",
    "    return rbins[1:], rdf[1:]"
   ]
  },
  {
   "cell_type": "markdown",
   "metadata": {},
   "source": [
    "Let's calculate the RDF from this simulation run ... \n",
    "\n",
    "But, it will take a while! Note the \"In [*]\" sign on the left of the running cell indicating the job is still running!"
   ]
  },
  {
   "cell_type": "code",
   "execution_count": 75,
   "metadata": {},
   "outputs": [],
   "source": [
    "rbins, rdf = RDF(traj_pos,boxl,bw=0.02)"
   ]
  },
  {
   "cell_type": "code",
   "execution_count": 76,
   "metadata": {},
   "outputs": [
    {
     "data": {
      "text/plain": [
       "[<matplotlib.lines.Line2D at 0x11b6a3a50>]"
      ]
     },
     "execution_count": 76,
     "metadata": {},
     "output_type": "execute_result"
    },
    {
     "data": {
      "image/png": "[encoded data removed]",
      "text/plain": [
       "<Figure size 432x288 with 1 Axes>"
      ]
     },
     "metadata": {
      "needs_background": "light"
     },
     "output_type": "display_data"
    }
   ],
   "source": [
    "plt.plot(rbins, rdf,'-o')"
   ]
  },
  {
   "cell_type": "markdown",
   "metadata": {},
   "source": [
    "You may vary the density, temperature to see how the local structural order vary from liquid to gas phase ...\n",
    "\n",
    "It would be your task to compute the:\n",
    "(i) Equation of state (P vesus density)\n",
    "(ii) Diffusion constant from mean square displacement and velocity autocorrelation function\n",
    "(iii) Autocorrelation function of potential energy ....\n",
    "\n",
    "etc."
   ]
  },
  {
   "cell_type": "code",
   "execution_count": null,
   "metadata": {},
   "outputs": [],
   "source": []
  }
 ],
 "metadata": {
  "kernelspec": {
   "display_name": "Python 3",
   "language": "python",
   "name": "python3"
  },
  "language_info": {
   "codemirror_mode": {
    "name": "ipython",
    "version": 3
   },
   "file_extension": ".py",
   "mimetype": "text/x-python",
   "name": "python",
   "nbconvert_exporter": "python",
   "pygments_lexer": "ipython3",
   "version": "3.7.6"
  }
 },
 "nbformat": 4,
 "nbformat_minor": 4
}
